{
  "nbformat": 4,
  "nbformat_minor": 0,
  "metadata": {
    "colab": {
      "name": "Queue.ipynb",
      "provenance": [],
      "collapsed_sections": [],
      "authorship_tag": "ABX9TyNS4w6I54jEv2F+RBlgv0Fb",
      "include_colab_link": true
    },
    "kernelspec": {
      "name": "python3",
      "display_name": "Python 3"
    }
  },
  "cells": [
    {
      "cell_type": "markdown",
      "metadata": {
        "id": "view-in-github",
        "colab_type": "text"
      },
      "source": [
        "<a href=\"https://colab.research.google.com/github/msrana172/Data-Structures-and-Algorithms/blob/main/Queue.ipynb\" target=\"_parent\"><img src=\"https://colab.research.google.com/assets/colab-badge.svg\" alt=\"Open In Colab\"/></a>"
      ]
    },
    {
      "cell_type": "code",
      "metadata": {
        "id": "wSCpOYPLwyf7",
        "outputId": "dcd12251-1679-482e-e6a6-14ec2b59f331",
        "colab": {
          "base_uri": "https://localhost:8080/",
          "height": 35
        }
      },
      "source": [
        "from collections import deque\n",
        "queue = deque([\"Ram\", \"Ramesh\", \"Rohan\", \"Sohan\",])\n",
        "print(queue)"
      ],
      "execution_count": 3,
      "outputs": [
        {
          "output_type": "stream",
          "text": [
            "deque(['Ram', 'Ramesh', 'Rohan', 'Sohan'])\n"
          ],
          "name": "stdout"
        }
      ]
    },
    {
      "cell_type": "code",
      "metadata": {
        "id": "g_A7sVK2xzCD"
      },
      "source": [
        "queue.append(\"Mohit\")"
      ],
      "execution_count": 32,
      "outputs": []
    },
    {
      "cell_type": "code",
      "metadata": {
        "id": "CNz0hwyaCWwi",
        "outputId": "107db3fd-60c2-44fc-efef-f41600055072",
        "colab": {
          "base_uri": "https://localhost:8080/",
          "height": 35
        }
      },
      "source": [
        "queue"
      ],
      "execution_count": 33,
      "outputs": [
        {
          "output_type": "execute_result",
          "data": {
            "text/plain": [
              "deque(['Ram', 'Ramesh', 'Rohan', 'Sohan', 'Mohit'])"
            ]
          },
          "metadata": {
            "tags": []
          },
          "execution_count": 33
        }
      ]
    },
    {
      "cell_type": "code",
      "metadata": {
        "id": "RGXAuCSwCjZE",
        "outputId": "8a6e8c83-3535-49cf-a493-00bd6b4bca4f",
        "colab": {
          "base_uri": "https://localhost:8080/",
          "height": 35
        }
      },
      "source": [
        "queue.popleft()"
      ],
      "execution_count": 34,
      "outputs": [
        {
          "output_type": "execute_result",
          "data": {
            "application/vnd.google.colaboratory.intrinsic+json": {
              "type": "string"
            },
            "text/plain": [
              "'Ram'"
            ]
          },
          "metadata": {
            "tags": []
          },
          "execution_count": 34
        }
      ]
    },
    {
      "cell_type": "code",
      "metadata": {
        "id": "mhAi_z3N6_vD"
      },
      "source": [
        "from collections import deque\n",
        "\n",
        "class Queue:\n",
        "    # Queue implementation using deque (Double ended queue)\n",
        "    def __init__(self):\n",
        "        '''Create an Empty Queue. '''\n",
        "        self.theItems = deque()\n",
        "\n",
        "    def isEmpty(self):\n",
        "        '''Rteurn True if the Queue is Empty or False otherwise.'''\n",
        "        return len(self.theItems) == 0\n",
        "\n",
        "    def enqueue(self, val):\n",
        "        '''adding the item onto the top of the Queue.'''\n",
        "        self.theItems.append(val)\n",
        "        \n",
        "    def dequeue(self):\n",
        "        '''Removing the item from the begining of the queue satisfying FIFO'''\n",
        "        return self.theItems.popleft()\n",
        "    \n",
        "    def size(self):\n",
        "        '''Return the number of item in the Queue. '''\n",
        "        return None if self.size() == 0 else len(self.theItems)\n",
        "\n",
        "    def peek(self):\n",
        "        '''Returns the top item from the begining on the Queue without removing it.'''\n",
        "        return None if self.size() == 0 else self.theItems[0]\n",
        "if __name__ == '__main__':\n",
        "    q = Queue()   "
      ],
      "execution_count": 9,
      "outputs": []
    },
    {
      "cell_type": "code",
      "metadata": {
        "id": "VMyc5keQ7zUx",
        "outputId": "79bd1f60-f4a4-4187-f8a5-1df96b69c326",
        "colab": {
          "base_uri": "https://localhost:8080/",
          "height": 35
        }
      },
      "source": [
        "q.isEmpty()"
      ],
      "execution_count": 10,
      "outputs": [
        {
          "output_type": "execute_result",
          "data": {
            "text/plain": [
              "True"
            ]
          },
          "metadata": {
            "tags": []
          },
          "execution_count": 10
        }
      ]
    },
    {
      "cell_type": "code",
      "metadata": {
        "id": "mpqEcFn-8VbX"
      },
      "source": [
        "q.enqueue(50)"
      ],
      "execution_count": 17,
      "outputs": []
    },
    {
      "cell_type": "code",
      "metadata": {
        "id": "0yXXkhh68-j3",
        "outputId": "901a4044-68bc-4e5e-d044-2beb6cf81937",
        "colab": {
          "base_uri": "https://localhost:8080/",
          "height": 35
        }
      },
      "source": [
        "q.size()"
      ],
      "execution_count": 18,
      "outputs": [
        {
          "output_type": "execute_result",
          "data": {
            "text/plain": [
              "5"
            ]
          },
          "metadata": {
            "tags": []
          },
          "execution_count": 18
        }
      ]
    },
    {
      "cell_type": "code",
      "metadata": {
        "id": "D5ShhUte9E1o",
        "outputId": "a52c80f8-d622-45e5-a12d-8e177d3dcbc6",
        "colab": {
          "base_uri": "https://localhost:8080/",
          "height": 35
        }
      },
      "source": [
        "q.theItems"
      ],
      "execution_count": 20,
      "outputs": [
        {
          "output_type": "execute_result",
          "data": {
            "text/plain": [
              "deque([10, 20, 30, 40, 50])"
            ]
          },
          "metadata": {
            "tags": []
          },
          "execution_count": 20
        }
      ]
    },
    {
      "cell_type": "code",
      "metadata": {
        "id": "4rO71GDF9oUL",
        "outputId": "5515551c-296a-4b95-ddad-82fd12e8c6f4",
        "colab": {
          "base_uri": "https://localhost:8080/",
          "height": 35
        }
      },
      "source": [
        "q.dequeue()"
      ],
      "execution_count": 22,
      "outputs": [
        {
          "output_type": "execute_result",
          "data": {
            "text/plain": [
              "10"
            ]
          },
          "metadata": {
            "tags": []
          },
          "execution_count": 22
        }
      ]
    },
    {
      "cell_type": "code",
      "metadata": {
        "id": "S-fg_OxA914d",
        "outputId": "bfd064ae-e90a-4eea-d7dc-c14588aeb60e",
        "colab": {
          "base_uri": "https://localhost:8080/",
          "height": 35
        }
      },
      "source": [
        "q.theItems"
      ],
      "execution_count": 23,
      "outputs": [
        {
          "output_type": "execute_result",
          "data": {
            "text/plain": [
              "deque([20, 30, 40, 50])"
            ]
          },
          "metadata": {
            "tags": []
          },
          "execution_count": 23
        }
      ]
    },
    {
      "cell_type": "code",
      "metadata": {
        "id": "W30Sq4vaAtcI"
      },
      "source": [
        "numbers = [60, 70, 80, 90, 100]\n",
        "for number in numbers:\n",
        "    q.enqueue(number)"
      ],
      "execution_count": 24,
      "outputs": []
    },
    {
      "cell_type": "code",
      "metadata": {
        "id": "-nakbnF_BFf4",
        "outputId": "e61d79d0-5ee2-4927-d007-616e8e0f171f",
        "colab": {
          "base_uri": "https://localhost:8080/",
          "height": 35
        }
      },
      "source": [
        "q.theItems"
      ],
      "execution_count": 26,
      "outputs": [
        {
          "output_type": "execute_result",
          "data": {
            "text/plain": [
              "deque([20, 30, 40, 50, 60, 70, 80, 90, 100])"
            ]
          },
          "metadata": {
            "tags": []
          },
          "execution_count": 26
        }
      ]
    },
    {
      "cell_type": "code",
      "metadata": {
        "id": "pesnMdmfBIl4"
      },
      "source": [
        "languages = [\"C\", \"c++\", \"Python\", \"Java\", \"JavaScript\"]\n",
        "for language in languages:\n",
        "    q.enqueue(language)"
      ],
      "execution_count": 29,
      "outputs": []
    },
    {
      "cell_type": "code",
      "metadata": {
        "id": "WP3VIWoKBg-L",
        "outputId": "984f0554-95aa-49c0-e2af-ae7c526a8850",
        "colab": {
          "base_uri": "https://localhost:8080/",
          "height": 347
        }
      },
      "source": [
        "q.theItems"
      ],
      "execution_count": 30,
      "outputs": [
        {
          "output_type": "execute_result",
          "data": {
            "text/plain": [
              "deque([20,\n",
              "       30,\n",
              "       40,\n",
              "       50,\n",
              "       60,\n",
              "       70,\n",
              "       80,\n",
              "       90,\n",
              "       100,\n",
              "       60,\n",
              "       70,\n",
              "       80,\n",
              "       90,\n",
              "       100,\n",
              "       'C',\n",
              "       'c++',\n",
              "       'Python',\n",
              "       'Java',\n",
              "       'JavaScript'])"
            ]
          },
          "metadata": {
            "tags": []
          },
          "execution_count": 30
        }
      ]
    },
    {
      "cell_type": "code",
      "metadata": {
        "id": "JOrsce3CBnYw"
      },
      "source": [
        ""
      ],
      "execution_count": null,
      "outputs": []
    }
  ]
}