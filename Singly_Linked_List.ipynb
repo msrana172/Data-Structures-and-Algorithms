{
  "nbformat": 4,
  "nbformat_minor": 0,
  "metadata": {
    "colab": {
      "name": "Singly Linked List.ipynb",
      "provenance": [],
      "authorship_tag": "ABX9TyPQ0WAY3WGP/kUm/JLE9qcq",
      "include_colab_link": true
    },
    "kernelspec": {
      "name": "python3",
      "display_name": "Python 3"
    }
  },
  "cells": [
    {
      "cell_type": "markdown",
      "metadata": {
        "id": "view-in-github",
        "colab_type": "text"
      },
      "source": [
        "<a href=\"https://colab.research.google.com/github/msrana172/Data-Structures-and-Algorithms/blob/main/Singly_Linked_List.ipynb\" target=\"_parent\"><img src=\"https://colab.research.google.com/assets/colab-badge.svg\" alt=\"Open In Colab\"/></a>"
      ]
    },
    {
      "cell_type": "code",
      "metadata": {
        "id": "PmoBRfXqAwa9"
      },
      "source": [
        "# create a Node\n",
        "class Node:\n",
        "    def __init__(self, data):\n",
        "        self.data = data\n",
        "        self.next = None"
      ],
      "execution_count": 1,
      "outputs": []
    },
    {
      "cell_type": "code",
      "metadata": {
        "id": "9ENc7PqXAPdm",
        "outputId": "81e189f8-dbcc-4ac8-db66-2cd672861c19",
        "colab": {
          "base_uri": "https://localhost:8080/"
        }
      },
      "source": [
        "# Creat a linked LIst   \n",
        "class LinkedList:\n",
        "    def __init__(self):\n",
        "        self.head = None\n",
        "        \n",
        "    def push(self, new_data):\n",
        "        new_node = Node(new_data)\n",
        "        new_node.next = self.head\n",
        "        self.head = new_node\n",
        "        \n",
        "    def append(self, new_data):\n",
        "        new_node = Node(new_data)\n",
        "        if self.head is None:\n",
        "            self.head = new_node\n",
        "            return\n",
        "        last = self.head\n",
        "        while last.next:\n",
        "            last = last.next\n",
        "        last.next = new_node\n",
        "        \n",
        "    def insertAfter(self, prev_node, new_data):\n",
        "        if prev_node is None:\n",
        "            return\n",
        "        new_node = Node(new_data)\n",
        "        new_node.next = prev_node.next\n",
        "        prev_node.next = new_node\n",
        "        \n",
        "    def add_before(self, new_data, x):\n",
        "        if self.head is None:\n",
        "            print(\"Linked LIst is Empty:\")\n",
        "            return\n",
        "        if self.head.data == x:\n",
        "            new_node = Node(new_data)\n",
        "            new_node.next = self.head\n",
        "            self.head = new_node\n",
        "            return   \n",
        "        temp = self.head\n",
        "        while temp.next is not None:\n",
        "            if temp.next.data == x:\n",
        "                break\n",
        "            temp = temp.next\n",
        "        if temp.next is None:\n",
        "            print(\"Node is not Found\")\n",
        "        else:\n",
        "            new_node = Node(new_data)\n",
        "            new_node.next = temp.next\n",
        "            temp.next = new_node\n",
        "    \n",
        "    #deletion\n",
        "    # delete a node at beginning \n",
        "    def delete_begin(self):\n",
        "        if self.head is None:\n",
        "            print(\"Linked List is Empty, you cant perform detection operation \")\n",
        "        else:\n",
        "            self.head = self.head.next\n",
        "    \n",
        "    # Delete at the end of the Linked List\n",
        "    def delete_end(self):\n",
        "        if self.head is None:\n",
        "            print(\"Linked List is Empty, you cant perform detection operation \")\n",
        "        else:\n",
        "            temp = self.head\n",
        "            while temp.next.next is not None:\n",
        "                temp = temp.next\n",
        "            temp.next = None\n",
        "\n",
        "    def deleteByValue(self, x):\n",
        "        if self.head is None:\n",
        "            print(\"Can't detele, Linked List is empty\")\n",
        "            return\n",
        "        if self.head.data == x:\n",
        "            self.head = self.head.next\n",
        "            return\n",
        "        temp = self.head\n",
        "        while temp.next is not None:\n",
        "            if temp.next.data == x:\n",
        "                break\n",
        "            temp = temp.next\n",
        "        if temp.next is None:\n",
        "            print(\"NOde is not present\")\n",
        "        else:\n",
        "            temp.next = temp.next.next\n",
        "            \n",
        "    \n",
        "    def printValues(self):\n",
        "        temp = self.head\n",
        "        while(temp):\n",
        "            print(temp.data)\n",
        "            temp = temp.next\n",
        "\n",
        "if __name__ == \"__main__\":\n",
        "    list1  = LinkedList()\n",
        "    list1.push(1)\n",
        "    list1.push(3)\n",
        "    list1.push(4)\n",
        "    list1.append(5)\n",
        "    list1.append(6)\n",
        "    list1.insertAfter(list1.head.next, 10)\n",
        "    list1.add_before(20, 10)\n",
        "    # list1.insertAfter(5, 10)\n",
        "    print(\"Before deletion : \")\n",
        "    list1.printValues()\n",
        "    list1.delete_begin()\n",
        "    print(\"After deletion : \")\n",
        "    list1.printValues()\n",
        "    print(\"Delete AT the end \")\n",
        "    list1.delete_end()\n",
        "    list1.deleteByValue(10)\n",
        "    list1.printValues()\n",
        "    \n",
        "        \n",
        "\n",
        "    "
      ],
      "execution_count": 4,
      "outputs": [
        {
          "output_type": "stream",
          "text": [
            "Before deletion : \n",
            "4\n",
            "3\n",
            "20\n",
            "10\n",
            "1\n",
            "5\n",
            "6\n",
            "After deletion : \n",
            "3\n",
            "20\n",
            "10\n",
            "1\n",
            "5\n",
            "6\n",
            "Delete AT the end \n",
            "3\n",
            "20\n",
            "1\n",
            "5\n"
          ],
          "name": "stdout"
        }
      ]
    },
    {
      "cell_type": "code",
      "metadata": {
        "id": "Sd4TG0vMA7sS"
      },
      "source": [
        ""
      ],
      "execution_count": null,
      "outputs": []
    }
  ]
}