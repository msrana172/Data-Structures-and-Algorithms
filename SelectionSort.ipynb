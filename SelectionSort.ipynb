{
  "nbformat": 4,
  "nbformat_minor": 0,
  "metadata": {
    "colab": {
      "name": "SelectionSort.ipynb",
      "provenance": [],
      "authorship_tag": "ABX9TyMbCIXlQpzEamIZ5n4ooRs0",
      "include_colab_link": true
    },
    "kernelspec": {
      "name": "python3",
      "display_name": "Python 3"
    }
  },
  "cells": [
    {
      "cell_type": "markdown",
      "metadata": {
        "id": "view-in-github",
        "colab_type": "text"
      },
      "source": [
        "<a href=\"https://colab.research.google.com/github/msrana172/Data-Structures-and-Algorithms/blob/main/SelectionSort.ipynb\" target=\"_parent\"><img src=\"https://colab.research.google.com/assets/colab-badge.svg\" alt=\"Open In Colab\"/></a>"
      ]
    },
    {
      "cell_type": "markdown",
      "metadata": {
        "id": "FvnWSXtX3T_S"
      },
      "source": [
        "**Selection Sort Algorithm**\n",
        "\n",
        "* The selection sort algorithm sorts an array by repeatedly finding the minimum element (considering ascending order) from unsorted part and putting it at the beginning. The algorithm maintains two subarrays in a given array.\n",
        "\n",
        "    1) The subarray which is already sorted.\n",
        "\n",
        "    2) Remaining subarray which is unsorted.\n",
        "\n",
        "* In every iteration of selection sort, the minimum element (considering ascending order) from the unsorted subarray is picked and moved to the sorted subarray."
      ]
    },
    {
      "cell_type": "code",
      "metadata": {
        "id": "d9hAUfm80IKs",
        "outputId": "9ccd0c19-72ee-4b67-fb1d-afcc7b14f7f5",
        "colab": {
          "base_uri": "https://localhost:8080/",
          "height": 35
        }
      },
      "source": [
        "def selectionSort(arr):\n",
        "    n = len(arr)\n",
        "    # Traverse through all array elements \n",
        "    for i in range(n): \n",
        "        \n",
        "        # Find the minimum element in remaining  \n",
        "        # unsorted array \n",
        "        min_idx = i \n",
        "        for j in range(i+1, n): \n",
        "            if arr[min_idx] > arr[j]: \n",
        "                min_idx = j \n",
        "                \n",
        "        # Swap the found minimum element with  \n",
        "        # the first element         \n",
        "        arr[i], arr[min_idx] = arr[min_idx], arr[i] \n",
        "    return arr        \n",
        "  \n",
        "# Driver code to test above function \n",
        "aList = [64, 25, 12, 22, 11]\n",
        "selectionSort(aList)\n",
        "print (\"Sorted array : \", aList) "
      ],
      "execution_count": 4,
      "outputs": [
        {
          "output_type": "stream",
          "text": [
            "Sorted array :  [11, 12, 22, 25, 64]\n"
          ],
          "name": "stdout"
        }
      ]
    },
    {
      "cell_type": "code",
      "metadata": {
        "id": "8k18p-ZY1KsK"
      },
      "source": [
        ""
      ],
      "execution_count": null,
      "outputs": []
    }
  ]
}