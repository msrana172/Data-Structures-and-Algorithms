{
  "nbformat": 4,
  "nbformat_minor": 0,
  "metadata": {
    "colab": {
      "name": "BubbleSort.ipynb",
      "provenance": [],
      "authorship_tag": "ABX9TyNMoS6PBBo2F/GhtqKa/poz",
      "include_colab_link": true
    },
    "kernelspec": {
      "name": "python3",
      "display_name": "Python 3"
    }
  },
  "cells": [
    {
      "cell_type": "markdown",
      "metadata": {
        "id": "view-in-github",
        "colab_type": "text"
      },
      "source": [
        "<a href=\"https://colab.research.google.com/github/msrana172/Data-Structures-and-Algorithms/blob/main/BubbleSort.ipynb\" target=\"_parent\"><img src=\"https://colab.research.google.com/assets/colab-badge.svg\" alt=\"Open In Colab\"/></a>"
      ]
    },
    {
      "cell_type": "markdown",
      "metadata": {
        "id": "4I9EX7mkxoi3"
      },
      "source": [
        "**Bubble Sort**\n",
        "* Bubble Sort is the simplest sorting algorithm that works by repeatedly swapping the adjacent elements if they are in wrong order."
      ]
    },
    {
      "cell_type": "code",
      "metadata": {
        "id": "HC6kem22u4OT",
        "outputId": "dfdc6208-2060-45ca-b607-1ce78aabe98f",
        "colab": {
          "base_uri": "https://localhost:8080/",
          "height": 35
        }
      },
      "source": [
        "def bubbleSort(arr): \n",
        "    n = len(arr) \n",
        "  \n",
        "    # Traverse through all array elements \n",
        "    for i in range(n - 1): \n",
        "    # range(n) also work but outer loop will repeat one time more than needed. \n",
        "  \n",
        "        # Last i elements are already in place \n",
        "        for j in range(0, n - i - 1): \n",
        "  \n",
        "            # traverse the array from 0 to n-i-1 \n",
        "            # Swap if the element found is greater \n",
        "            # than the next element \n",
        "            if arr[j] > arr[j + 1] : \n",
        "                arr[j], arr[j + 1] = arr[j + 1], arr[j] \n",
        "    return arr\n",
        "\n",
        "arr = [64, 34, 25, 12, 22, 11, 90] \n",
        "print (\"Sorted array is:\", bubbleSort(arr))"
      ],
      "execution_count": 5,
      "outputs": [
        {
          "output_type": "stream",
          "text": [
            "Sorted array is: [11, 12, 22, 25, 34, 64, 90]\n"
          ],
          "name": "stdout"
        }
      ]
    },
    {
      "cell_type": "code",
      "metadata": {
        "id": "joaQfmHFyARb"
      },
      "source": [
        ""
      ],
      "execution_count": null,
      "outputs": []
    }
  ]
}