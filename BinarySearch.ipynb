{
  "nbformat": 4,
  "nbformat_minor": 0,
  "metadata": {
    "colab": {
      "name": "BinarySearch.ipynb",
      "provenance": [],
      "authorship_tag": "ABX9TyMOf2RoUYnG8rCCtuX+9msy",
      "include_colab_link": true
    },
    "kernelspec": {
      "name": "python3",
      "display_name": "Python 3"
    }
  },
  "cells": [
    {
      "cell_type": "markdown",
      "metadata": {
        "id": "view-in-github",
        "colab_type": "text"
      },
      "source": [
        "<a href=\"https://colab.research.google.com/github/msrana172/Data-Structures-and-Algorithms/blob/main/BinarySearch.ipynb\" target=\"_parent\"><img src=\"https://colab.research.google.com/assets/colab-badge.svg\" alt=\"Open In Colab\"/></a>"
      ]
    },
    {
      "cell_type": "markdown",
      "metadata": {
        "id": "Z-XtPZWQlrMa"
      },
      "source": [
        "Binary Search algorithm takes advantage of a collection of elements that is already sorted by ignoring half of the elements after just one comparison.\n",
        "\n",
        "* Compare x with the middle element.\n",
        "* If x matches with the middle element, we return the mid index.\n",
        "* Else if x is greater than the mid element, then x can only lie in the right (greater) half subarray after the mid element. Then we apply the algorithm again for the right half.\n",
        "* Else if x is smaller, the target x must lie in the left (lower) half. So we apply the algorithm for the left half."
      ]
    },
    {
      "cell_type": "code",
      "metadata": {
        "id": "6s4MEflikbvB",
        "outputId": "c622ca42-865b-48bf-d35f-396340d3658c",
        "colab": {
          "base_uri": "https://localhost:8080/",
          "height": 35
        }
      },
      "source": [
        "# Iterative Binary Search Function \n",
        "# It returns index of x in given array arr if present, else returns -1 \n",
        "def binary_search(arr, x): \n",
        "    low = 0\n",
        "    high = len(arr) - 1\n",
        "    while low <= high: \n",
        "  \n",
        "        mid = (high + low) // 2\n",
        "  \n",
        "        # Check if x is present at mid \n",
        "        if arr[mid] < x: \n",
        "            low = mid + 1\n",
        "  \n",
        "        # If x is greater, ignore left half \n",
        "        elif arr[mid] > x: \n",
        "            high = mid - 1\n",
        "  \n",
        "        # If x is smaller, ignore right half \n",
        "        else: \n",
        "            return mid \n",
        "  \n",
        "    # If we reach here, then the element was not present \n",
        "    return -1\n",
        "  \n",
        "arr = [1, 2, 3, 4, 10, 40] \n",
        "x = 10\n",
        "  \n",
        "# Function call \n",
        "result = binary_search(arr, x) \n",
        "  \n",
        "if result != -1: \n",
        "    print(\"Element is present at index\", str(result)) \n",
        "else: \n",
        "    print(\"Element is not present in array\")"
      ],
      "execution_count": 1,
      "outputs": [
        {
          "output_type": "stream",
          "text": [
            "Element is present at index 4\n"
          ],
          "name": "stdout"
        }
      ]
    },
    {
      "cell_type": "markdown",
      "metadata": {
        "id": "YQTca63XmvAI"
      },
      "source": [
        "**Recursive Binary Search.** \n",
        "* Returns index of x in arr if present, else -1"
      ]
    },
    {
      "cell_type": "code",
      "metadata": {
        "id": "-5qtwv2UmLrs",
        "outputId": "1ee2c7fb-2f01-435b-92a6-11eeaf9e111f",
        "colab": {
          "base_uri": "https://localhost:8080/",
          "height": 35
        }
      },
      "source": [
        "def binary_search(arr, low, high, x): \n",
        "  \n",
        "    # Check base case \n",
        "    if high >= low: \n",
        "  \n",
        "        mid = (high + low) // 2\n",
        "  \n",
        "        # If element is present at the middle itself \n",
        "        if arr[mid] == x: \n",
        "            return mid \n",
        "  \n",
        "        # If element is smaller than mid, then it can only \n",
        "        # be present in left subarray \n",
        "        elif arr[mid] > x: \n",
        "            return binary_search(arr, low, mid - 1, x) \n",
        "  \n",
        "        # Else the element can only be present in right subarray \n",
        "        else: \n",
        "            return binary_search(arr, mid + 1, high, x) \n",
        "  \n",
        "    else: \n",
        "        # Element is not present in the array \n",
        "        return -1\n",
        "         \n",
        "arr = [ 2, 3, 4, 10, 40 ] \n",
        "x = 10\n",
        "  \n",
        "# Function call \n",
        "result = binary_search(arr, 0, len(arr)-1, x) \n",
        "  \n",
        "if result != -1: \n",
        "    print(\"Element is present at index\", str(result)) \n",
        "else: \n",
        "    print(\"Element is not present in array\") "
      ],
      "execution_count": 9,
      "outputs": [
        {
          "output_type": "stream",
          "text": [
            "Element is present at index 3\n"
          ],
          "name": "stdout"
        }
      ]
    },
    {
      "cell_type": "code",
      "metadata": {
        "id": "CFXKz_fsnNXw"
      },
      "source": [
        ""
      ],
      "execution_count": null,
      "outputs": []
    }
  ]
}