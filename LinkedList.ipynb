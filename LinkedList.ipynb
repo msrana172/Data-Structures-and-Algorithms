{
  "nbformat": 4,
  "nbformat_minor": 0,
  "metadata": {
    "colab": {
      "name": "LinkedList.ipynb",
      "provenance": [],
      "authorship_tag": "ABX9TyNq9YmScIsLjxjiD8bmxHIq",
      "include_colab_link": true
    },
    "kernelspec": {
      "name": "python3",
      "display_name": "Python 3"
    }
  },
  "cells": [
    {
      "cell_type": "markdown",
      "metadata": {
        "id": "view-in-github",
        "colab_type": "text"
      },
      "source": [
        "<a href=\"https://colab.research.google.com/github/msrana172/Data-Structures-and-Algorithms/blob/main/LinkedList.ipynb\" target=\"_parent\"><img src=\"https://colab.research.google.com/assets/colab-badge.svg\" alt=\"Open In Colab\"/></a>"
      ]
    },
    {
      "cell_type": "code",
      "metadata": {
        "id": "_VVwNiQeMxfx"
      },
      "source": [
        "class Node:\n",
        "    '''Function to initialise the node object '''\n",
        "    def __init__(self, data):\n",
        "        self.data = data\n",
        "        self.next = None\n",
        "\n",
        "class LinkedList:\n",
        "    '''Function to initialize head '''\n",
        "    def __init__(self):\n",
        "        self.head = None\n",
        "\n",
        "    '''This function prints contents of linked list starting from head '''\n",
        "    def printList(self):\n",
        "        temp = self.head\n",
        "        while (temp):\n",
        "            print(temp.data)\n",
        "            temp = temp.next \n",
        "\n",
        "if __name__ == '__main__':\n",
        "    '''start with the empty list '''\n",
        "    list1 = LinkedList()\n",
        "    list1.head = Node(1)\n",
        "    second = Node(2)\n",
        "    third = Node(3)\n",
        "\n",
        "    '''Link first node with second '''\n",
        "    list1.head.next = second\n",
        "\n",
        "    '''Link second node with third '''\n",
        "    second.next = third"
      ],
      "execution_count": 3,
      "outputs": []
    },
    {
      "cell_type": "code",
      "metadata": {
        "id": "zBOIW0naQVkK",
        "outputId": "cbbd7694-af59-4c75-cafa-5e606a764187",
        "colab": {
          "base_uri": "https://localhost:8080/",
          "height": 69
        }
      },
      "source": [
        "list1.printList()"
      ],
      "execution_count": 4,
      "outputs": [
        {
          "output_type": "stream",
          "text": [
            "1\n",
            "2\n",
            "3\n"
          ],
          "name": "stdout"
        }
      ]
    },
    {
      "cell_type": "code",
      "metadata": {
        "id": "XVjgO9cwQjk-"
      },
      "source": [
        ""
      ],
      "execution_count": null,
      "outputs": []
    }
  ]
}