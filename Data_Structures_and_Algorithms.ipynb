{
  "nbformat": 4,
  "nbformat_minor": 0,
  "metadata": {
    "colab": {
      "name": "Data Structures and Algorithms.ipynb",
      "provenance": [],
      "authorship_tag": "ABX9TyNaw9Ll1PQR1G5RgFPzg5of",
      "include_colab_link": true
    },
    "kernelspec": {
      "name": "python3",
      "display_name": "Python 3"
    }
  },
  "cells": [
    {
      "cell_type": "markdown",
      "metadata": {
        "id": "view-in-github",
        "colab_type": "text"
      },
      "source": [
        "<a href=\"https://colab.research.google.com/github/msrana172/Data-Structures-and-Algorithms/blob/main/Data_Structures_and_Algorithms.ipynb\" target=\"_parent\"><img src=\"https://colab.research.google.com/assets/colab-badge.svg\" alt=\"Open In Colab\"/></a>"
      ]
    },
    {
      "cell_type": "markdown",
      "metadata": {
        "id": "CUOR3ejibidl"
      },
      "source": [
        "#### Stack"
      ]
    },
    {
      "cell_type": "code",
      "metadata": {
        "id": "EbpjWI3BbXS8",
        "outputId": "c20bee13-aac1-47bc-8284-f1ea12c2fca2",
        "colab": {
          "base_uri": "https://localhost:8080/",
          "height": 35
        }
      },
      "source": [
        "class Stack:\n",
        "    '''Implementation of the Stack ADT using a Pythin List'''\n",
        "    def __init__(self):\n",
        "        '''Create an Empty Stack. '''\n",
        "        self.theItems = []\n",
        "    \n",
        "    def isEmpty(self):\n",
        "        '''Rteurn True if the Stack is Empty or False otherwise.'''\n",
        "        return self.theItems == []\n",
        "\n",
        "    def push(self, item):\n",
        "        '''Push the item onto the top of the stack. '''\n",
        "        self.theItems.append(item)\n",
        "\n",
        "    def pop(self):\n",
        "        '''Removes and returns the top item on the stack. '''\n",
        "        assert not self.isEmpty(), 'Can not pop from an empty stack.' \n",
        "        self.theItems.pop()\n",
        "    \n",
        "    def peek(self):\n",
        "        '''Returns the top item on the Stack without removing it. '''\n",
        "        assert not self.isEmpty(), 'Can not peek at an empty stack'\n",
        "        # return self.theItems[len(theItems)-1]\n",
        "        return self.theItems[-1]\n",
        "\n",
        "    def size(self):\n",
        "        '''Return the number of item in the stack. '''\n",
        "        return len(self.theItems)\n",
        "if __name__ == '__main__':\n",
        "    s = Stack()       "
      ],
      "execution_count": 1,
      "outputs": [
        {
          "output_type": "stream",
          "text": [
            "True\n"
          ],
          "name": "stdout"
        }
      ]
    },
    {
      "cell_type": "code",
      "metadata": {
        "id": "uwMaYgrWfhMC",
        "outputId": "0693b885-7654-4980-f16c-fa0e20bcbe99",
        "colab": {
          "base_uri": "https://localhost:8080/",
          "height": 35
        }
      },
      "source": [
        "print(s.size())"
      ],
      "execution_count": 15,
      "outputs": [
        {
          "output_type": "stream",
          "text": [
            "7\n"
          ],
          "name": "stdout"
        }
      ]
    },
    {
      "cell_type": "code",
      "metadata": {
        "id": "8p0HEHIbjFR7",
        "outputId": "4a98b611-f913-4cbb-c72f-02ba3571953b",
        "colab": {
          "base_uri": "https://localhost:8080/",
          "height": 35
        }
      },
      "source": [
        "s.isEmpty()"
      ],
      "execution_count": 16,
      "outputs": [
        {
          "output_type": "execute_result",
          "data": {
            "text/plain": [
              "False"
            ]
          },
          "metadata": {
            "tags": []
          },
          "execution_count": 16
        }
      ]
    },
    {
      "cell_type": "code",
      "metadata": {
        "id": "04X8jyAYfxM0"
      },
      "source": [
        "s.pop()"
      ],
      "execution_count": 17,
      "outputs": []
    },
    {
      "cell_type": "code",
      "metadata": {
        "id": "mLZKv5xvf3Ok",
        "outputId": "248ae904-2a05-4091-a9a2-0aa6c5599f7f",
        "colab": {
          "base_uri": "https://localhost:8080/",
          "height": 35
        }
      },
      "source": [
        "s.peek()"
      ],
      "execution_count": 14,
      "outputs": [
        {
          "output_type": "execute_result",
          "data": {
            "text/plain": [
              "7"
            ]
          },
          "metadata": {
            "tags": []
          },
          "execution_count": 14
        }
      ]
    },
    {
      "cell_type": "code",
      "metadata": {
        "id": "tFquDKa5ioEY"
      },
      "source": [
        "s.push(7)"
      ],
      "execution_count": 13,
      "outputs": []
    }
  ]
}